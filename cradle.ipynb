{
 "cells": [
  {
   "cell_type": "code",
   "execution_count": 19,
   "metadata": {},
   "outputs": [],
   "source": [
    "    # import tracemalloc; tracemalloc.start(); import linecache\n",
    "\n",
    "    # snapshot = tracemalloc.take_snapshot()\n",
    "    # display_top(snapshot)\n",
    "\n",
    "def display_top(snapshot, key_type='lineno', limit=3):\n",
    "    snapshot = snapshot.filter_traces((\n",
    "        tracemalloc.Filter(False, \"<frozen importlib._bootstrap>\"),\n",
    "        tracemalloc.Filter(False, \"<unknown>\"),\n",
    "    ))\n",
    "    top_stats = snapshot.statistics(key_type)\n",
    "\n",
    "    print(\"Top %s lines\" % limit)\n",
    "    for index, stat in enumerate(top_stats[:limit], 1):\n",
    "        frame = stat.traceback[0]\n",
    "        # replace \"/path/to/module/file.py\" with \"module/file.py\"\n",
    "        filename = os.sep.join(frame.filename.split(os.sep)[-2:])\n",
    "        print(\"#%s: %s:%s: %.1f KiB\"\n",
    "              % (index, filename, frame.lineno, stat.size / 1024))\n",
    "        line = linecache.getline(frame.filename, frame.lineno).strip()\n",
    "        if line:\n",
    "            print('    %s' % line)\n",
    "\n",
    "    other = top_stats[limit:]\n",
    "    if other:\n",
    "        size = sum(stat.size for stat in other)\n",
    "        print(\"%s other: %.1f KiB\" % (len(other), size / 1024))\n",
    "    total = sum(stat.size for stat in top_stats)\n",
    "    print(\"Total allocated size: %.1f KiB\" % (total / 1024))"
   ]
  },
  {
   "cell_type": "code",
   "execution_count": 4,
   "metadata": {},
   "outputs": [
    {
     "data": {
      "text/plain": [
       "array([[23, 42, 34, ..., 24, 11,  2],\n",
       "       [25, 33, 35, ..., 48, 34, 41],\n",
       "       [45, 30, 26, ..., 20, 11, 30],\n",
       "       ...,\n",
       "       [ 3,  2,  2, ..., 26, 36, 23],\n",
       "       [20,  5, 23, ..., 30, 40, 31],\n",
       "       [ 8, 43, 28, ..., 21, 46,  8]])"
      ]
     },
     "execution_count": 4,
     "metadata": {},
     "output_type": "execute_result"
    }
   ],
   "source": [
    "import torch\n",
    "import numpy as np\n",
    "x = torch.zeros(50,50)\n",
    "\n",
    "np.random.randint(low=0,high=50, size=(50,50))"
   ]
  },
  {
   "cell_type": "code",
   "execution_count": 13,
   "metadata": {},
   "outputs": [
    {
     "name": "stdout",
     "output_type": "stream",
     "text": [
      "2.05 ms ± 3.93 µs per loop (mean ± std. dev. of 7 runs, 100 loops each)\n"
     ]
    }
   ],
   "source": [
    "from UTILS.tensor_ops import my_view, __hash__, objload\n",
    "\n",
    "obs_feed_new, prev_obs_feed, valid_mask, N_valid, next_his_pool = objload()\n",
    "__hash__(roll_hisory(obs_feed_new, prev_obs_feed, valid_mask, N_valid, next_his_pool))\n",
    "%timeit roll_hisory(obs_feed_new, prev_obs_feed, valid_mask, N_valid, next_his_pool)"
   ]
  },
  {
   "cell_type": "code",
   "execution_count": null,
   "metadata": {},
   "outputs": [],
   "source": [
    "n_timestep = reward_logits.shape[0]\n",
    "n_agent = reward_logits.shape[1]\n",
    "assert not ((reward != 0) & (reward!=1) & (reward!=-0.5) & (reward!=0.5)).any()\n",
    "# {-0.5, 0, 0.5, 1} -> {3<(-1), 0, 1, 2}\n",
    "reward_projection = lambda r: np.where(r<0, 3, r*2).astype(np.int)\n",
    "# apply projection\n",
    "reward_class = reward_projection(reward) # np_one_hot(,4)\n",
    "# ($time_step.$n_agent.) -> ($time_step.$n_agent_.$n_agent.)\n",
    "reward_class = np_repeat_at(reward_class, insert_dim=1, n_times=n_agent)\n",
    "# not zero reward\n",
    "not_zero_mask = (reward_class!=0)\n",
    "# reward_class_onehot\n",
    "reward_class_onehot = np_one_hot(reward_class, 4)\n",
    "# reward estimation\n",
    "reward_logits = np_softmax(reward_logits, axis=-1)\n",
    "prediction_rating = np.take_along_axis(reward_logits, axis=-1, \n",
    "    indices=np.expand_dims(reward_class, -1)).squeeze(-1)\n",
    "correct_prediction = (np.argmax(reward_logits, -1) == reward_class)"
   ]
  },
  {
   "cell_type": "code",
   "execution_count": null,
   "metadata": {},
   "outputs": [],
   "source": [
    "confidence_threshhold = 0.25*1.05\n",
    "eye_mat = np_repeat_at(np.eye(n_agent), insert_dim=0, n_times=n_timestep)\n",
    "compasion_matrix = correct_prediction & (prediction_rating > confidence_threshhold) & not_zero_mask | (eye_mat==1)\n",
    "print(compasion_matrix)"
   ]
  },
  {
   "cell_type": "code",
   "execution_count": null,
   "metadata": {},
   "outputs": [],
   "source": [
    "# compasion_matrix = (prediction_rating > confidence_threshhold) & not_zero_mask & (eye_mat==0)\n",
    "compasion_matrix = compasion_matrix.astype(np.int)\n",
    "\n",
    "# 计算分解后的reward，因为reward可能被多个智能体分解\n",
    "n_com = compasion_matrix.sum(-2)\n",
    "assert not (n_com==0).any()\n",
    "reward_decmp = np.where(n_com!=0, reward/n_com, reward) # reward/(n_com+1e-7)\n",
    "# https://numpy.org/doc/stable/reference/generated/numpy.matmul.html\n",
    "compassion_reward = np.matmul(compasion_matrix, np.expand_dims(reward_decmp,-1)).squeeze(-1)\n",
    "print(compassion_reward)"
   ]
  },
  {
   "cell_type": "code",
   "execution_count": null,
   "metadata": {},
   "outputs": [],
   "source": [
    "'''\n",
    "函数说明：在有限的、不均衡的多标签数据集中，按照预设的比例，取出尽可能多的样本\n",
    "'''\n",
    "def sample_balance(x, y, n_class, weight=None):\n",
    "    if weight is None: weight = torch.ones(n_class, device=x.device)\n",
    "    else: weight = torch.Tensor(weight, device=x.device)\n",
    "    n_instance = torch.zeros(n_class, device=x.device)\n",
    "    indices = [None]*n_class\n",
    "    for i in range(n_class):\n",
    "        indices[i] = torch.where(y==i)[0]\n",
    "        n_instance[i] = len(indices[i])\n",
    "    ratio = n_instance/weight\n",
    "    bottle_neck = torch.argmin(n_instance/weight)\n",
    "    r = ratio[bottle_neck]\n",
    "    n_sample = (r*weight).long()\n",
    "    # print(n_instance, n_sample)\n",
    "    new_indices = [indices[i][torch.randperm(n_sample[i])] for i in range(n_class)]\n",
    "    # print(new_indices)\n",
    "    new_indices_ = torch.cat(new_indices)\n",
    "    assert len(new_indices_) == sum(n_sample)\n",
    "    return x[new_indices_], y[new_indices_]\n",
    "\n",
    "'''\n",
    "测试代码\n",
    "'''\n",
    "x = torch.rand(200, 4)\n",
    "y1 = torch.rand(100, 4)\n",
    "y2 = torch.rand(100, 4)\n",
    "y2[:, 0] += 1\n",
    "y = torch.cat((y1,y2))\n",
    "y = torch.argmax(y, -1)\n",
    "print(y)\n",
    "n_class = 4\n",
    "weight = [2,1,1,1]\n",
    "sample_balance(x,y,4,weight)"
   ]
  },
  {
   "cell_type": "code",
   "execution_count": null,
   "metadata": {},
   "outputs": [],
   "source": []
  },
  {
   "cell_type": "code",
   "execution_count": null,
   "metadata": {},
   "outputs": [],
   "source": [
    "x = torch.rand(100, 4)\n",
    "y = torch.rand(100, 4)\n",
    "y = torch.argmax(y, -1)\n",
    "\n",
    "# return x[new_indices_], y[new_indices_]"
   ]
  },
  {
   "cell_type": "code",
   "execution_count": null,
   "metadata": {},
   "outputs": [],
   "source": []
  },
  {
   "cell_type": "code",
   "execution_count": null,
   "metadata": {},
   "outputs": [],
   "source": [
    "import numpy as np\n",
    "def my_view(x, shape):\n",
    "    if -1 in shape[1:-1]: return my_view_test(x, shape)\n",
    "    reverse_lookup = True if shape[0] == -1 else False\n",
    "    if not reverse_lookup:\n",
    "        for i, dim in enumerate(shape):\n",
    "            if dim == 0:\n",
    "                shape[i] = x.shape[i]\n",
    "    else:\n",
    "        for i in range(len(shape)):\n",
    "            ni = -(i + 1)  # iter -1,-2,-3,...\n",
    "            dim = shape[ni]\n",
    "            if dim == 0:\n",
    "                shape[ni] = x.shape[ni]\n",
    "    if isinstance(x, np.ndarray):\n",
    "        return x.reshape(*shape)\n",
    "    return x.view(*shape)\n",
    "\n",
    "def my_view_test(x, shape):\n",
    "    # fill both way until meet -1 \n",
    "    for i, dim in enumerate(shape):\n",
    "        if dim == 0: shape[i] = x.shape[i]\n",
    "        elif dim == -1: break\n",
    "    for i in range(len(shape)):\n",
    "        ni = -(i + 1); dim = shape[ni]\n",
    "        if dim == 0: shape[ni] = x.shape[ni]\n",
    "        elif dim == -1: break\n",
    "    # print(shape)\n",
    "    if isinstance(x, np.ndarray):\n",
    "        return x.reshape(*shape)\n",
    "    return x.view(*shape)\n",
    "\n"
   ]
  },
  {
   "cell_type": "code",
   "execution_count": null,
   "metadata": {},
   "outputs": [],
   "source": [
    "\n",
    "\"\"\"\n",
    "    improve np.reshape and torch.view function\n",
    "    If a dim is assigned with 0, it will keep its original dimension\n",
    "    eg.1    x.shape = (4, 5, 6, 7); new_shape = [0, 0, -1]\n",
    "            y = my_view(x, new_shape)\n",
    "            y.shape = (4, 5, 6*7)\n",
    "\n",
    "    eg.2    x.shape = (4, 5, 6, 7); new_shape = [-1, 0, 0]\n",
    "            y = my_view(x, new_shape)\n",
    "            y.shape = (4*5, 6, 7)\n",
    "\n",
    "(4, 5, 6); new_shape = [0, 0, -1, 3]\n",
    "\n",
    "(4, 5, 6); new_shape = [2, -1, 0, 0]\n",
    "(3, 4, 5, 6); new_shape = [0, 2, -1, 0, 0]\n",
    "\"\"\"\n",
    "\n",
    "my_view(np.zeros(shape=(4, 5, 6)), shape = [2, -1, 0, 0]).shape"
   ]
  },
  {
   "cell_type": "code",
   "execution_count": null,
   "metadata": {},
   "outputs": [],
   "source": [
    "my_view(np.zeros(shape=(4, 5, 6)), shape = [0, 0, -1, 3]).shape"
   ]
  },
  {
   "cell_type": "code",
   "execution_count": null,
   "metadata": {},
   "outputs": [],
   "source": [
    "load_ext Cython"
   ]
  },
  {
   "cell_type": "code",
   "execution_count": null,
   "metadata": {},
   "outputs": [],
   "source": [
    "%%cython\n",
    "\n",
    "a: cython.int = 0\n",
    "for i in range(10):\n",
    "    a += i\n",
    "print(a)"
   ]
  },
  {
   "cell_type": "code",
   "execution_count": null,
   "metadata": {},
   "outputs": [],
   "source": [
    "%%cython\n",
    "\n"
   ]
  },
  {
   "cell_type": "code",
   "execution_count": null,
   "metadata": {},
   "outputs": [],
   "source": [
    "new_method(np.ones(5), np.zeros(5))"
   ]
  }
 ],
 "metadata": {
  "interpreter": {
   "hash": "31f2aee4e71d21fbe5cf8b01ff0e069b9275f58929596ceb00d14d90e3e16cd6"
  },
  "kernelspec": {
   "display_name": "Python 3.8.5 64-bit",
   "name": "python3"
  },
  "language_info": {
   "codemirror_mode": {
    "name": "ipython",
    "version": 3
   },
   "file_extension": ".py",
   "mimetype": "text/x-python",
   "name": "python",
   "nbconvert_exporter": "python",
   "pygments_lexer": "ipython3",
   "version": "3.8.5"
  },
  "orig_nbformat": 4
 },
 "nbformat": 4,
 "nbformat_minor": 2
}
